{
 "cells": [
  {
   "cell_type": "code",
   "execution_count": 1,
   "id": "48045b2c",
   "metadata": {},
   "outputs": [],
   "source": [
    "import numpy as np\n",
    "import matplotlib.pyplot\n",
    "import statsmodels.api as sms\n",
    "import pandas as pd\n",
    "%matplotlib inline"
   ]
  },
  {
   "cell_type": "code",
   "execution_count": 2,
   "id": "5eef4afb",
   "metadata": {},
   "outputs": [],
   "source": [
    "data = pd.read_csv('airline.csv')"
   ]
  },
  {
   "cell_type": "code",
   "execution_count": 5,
   "id": "6ed6b068",
   "metadata": {},
   "outputs": [
    {
     "data": {
      "text/plain": [
       "Month                      0\n",
       "Thousands of Passengers    0\n",
       "dtype: int64"
      ]
     },
     "execution_count": 5,
     "metadata": {},
     "output_type": "execute_result"
    }
   ],
   "source": [
    "data.isnull().sum()"
   ]
  },
  {
   "cell_type": "code",
   "execution_count": 9,
   "id": "0d99a6fd",
   "metadata": {},
   "outputs": [
    {
     "name": "stdout",
     "output_type": "stream",
     "text": [
      "<class 'pandas.core.frame.DataFrame'>\n",
      "RangeIndex: 144 entries, 0 to 143\n",
      "Data columns (total 2 columns):\n",
      " #   Column                   Non-Null Count  Dtype         \n",
      "---  ------                   --------------  -----         \n",
      " 0   Month                    144 non-null    datetime64[ns]\n",
      " 1   Thousands of Passengers  144 non-null    int64         \n",
      "dtypes: datetime64[ns](1), int64(1)\n",
      "memory usage: 2.4 KB\n"
     ]
    }
   ],
   "source": [
    "data.info()"
   ]
  },
  {
   "cell_type": "code",
   "execution_count": 8,
   "id": "ccb3a880",
   "metadata": {},
   "outputs": [],
   "source": [
    "data['Month'] = pd.to_datetime(data['Month'])"
   ]
  },
  {
   "cell_type": "code",
   "execution_count": 12,
   "id": "3c98ee9b",
   "metadata": {},
   "outputs": [],
   "source": [
    "data.set_index('Month',inplace=True)"
   ]
  },
  {
   "cell_type": "code",
   "execution_count": 14,
   "id": "e3b1a03e",
   "metadata": {},
   "outputs": [
    {
     "data": {
      "text/plain": [
       "<AxesSubplot:xlabel='Month'>"
      ]
     },
     "execution_count": 14,
     "metadata": {},
     "output_type": "execute_result"
    },
    {
     "data": {
      "image/png": "[encoded data removed]",
      "text/plain": [
       "<Figure size 432x288 with 1 Axes>"
      ]
     },
     "metadata": {
      "needs_background": "light"
     },
     "output_type": "display_data"
    }
   ],
   "source": [
    "data.plot()\n",
    "#looks like seasonal data"
   ]
  },
  {
   "cell_type": "code",
   "execution_count": 15,
   "id": "c69026df",
   "metadata": {},
   "outputs": [],
   "source": [
    "from statsmodels.tsa.stattools import adfuller"
   ]
  },
  {
   "cell_type": "code",
   "execution_count": 17,
   "id": "d1be5636",
   "metadata": {},
   "outputs": [],
   "source": [
    "def adf_test(series):\n",
    "    result = adfuller(series)\n",
    "    print('ADF statistics: {}'.format(result[0]))\n",
    "    print(\"P-value: {}\".format(result[1]))\n",
    "    \n",
    "    if result[1] <= 0.05:\n",
    "        print(\"Reject the null hypothesis. Data is stationary\")\n",
    "    else:\n",
    "        print(\"Weak evidence against null hypothesis, time series has a unit root. Data is non-stationary\")"
   ]
  },
  {
   "cell_type": "code",
   "execution_count": 18,
   "id": "9aa4cbd6",
   "metadata": {},
   "outputs": [
    {
     "name": "stdout",
     "output_type": "stream",
     "text": [
      "ADF statistics: 0.8153688792060433\n",
      "P-value: 0.9918802434376409\n",
      "Weak evidence against null hypothesis, time series has a unit root. Data is non-stationary\n"
     ]
    }
   ],
   "source": [
    "adf_test(data['Thousands of Passengers'])"
   ]
  },
  {
   "cell_type": "code",
   "execution_count": 19,
   "id": "e51e128c",
   "metadata": {},
   "outputs": [],
   "source": [
    "#use techniques differencing\n",
    "data['First difference'] = data['Thousands of Passengers'] - data['Thousands of Passengers'].shift(1)"
   ]
  },
  {
   "cell_type": "code",
   "execution_count": 21,
   "id": "88335e57",
   "metadata": {},
   "outputs": [
    {
     "name": "stdout",
     "output_type": "stream",
     "text": [
      "ADF statistics: -2.8292668241699954\n",
      "P-value: 0.05421329028382609\n",
      "Weak evidence against null hypothesis, time series has a unit root. Data is non-stationary\n"
     ]
    }
   ],
   "source": [
    "adf_test(data['First difference'].dropna())"
   ]
  },
  {
   "cell_type": "code",
   "execution_count": 22,
   "id": "e9b5b18a",
   "metadata": {},
   "outputs": [],
   "source": [
    "data['second difference'] = data['First difference'] - data['First difference'].shift(1)"
   ]
  },
  {
   "cell_type": "code",
   "execution_count": 23,
   "id": "994c9e7a",
   "metadata": {},
   "outputs": [
    {
     "name": "stdout",
     "output_type": "stream",
     "text": [
      "ADF statistics: -16.3842315424685\n",
      "P-value: 2.7328918500142407e-29\n",
      "Reject the null hypothesis. Data is stationary\n"
     ]
    }
   ],
   "source": [
    "adf_test(data['second difference'].dropna())"
   ]
  },
  {
   "cell_type": "code",
   "execution_count": 27,
   "id": "261408f7",
   "metadata": {},
   "outputs": [],
   "source": [
    "data['12 difference'] = data['Thousands of Passengers'] - data['Thousands of Passengers'].shift(12)"
   ]
  },
  {
   "cell_type": "code",
   "execution_count": 28,
   "id": "0e70eb55",
   "metadata": {},
   "outputs": [
    {
     "name": "stdout",
     "output_type": "stream",
     "text": [
      "ADF statistics: -3.3830207264924814\n",
      "P-value: 0.011551493085514952\n",
      "Reject the null hypothesis. Data is stationary\n"
     ]
    }
   ],
   "source": [
    "adf_test(data['12 difference'].dropna())"
   ]
  },
  {
   "cell_type": "code",
   "execution_count": 25,
   "id": "54f7b326",
   "metadata": {},
   "outputs": [],
   "source": [
    "from statsmodels.graphics.tsaplots import plot_acf,plot_pacf"
   ]
  },
  {
   "cell_type": "code",
   "execution_count": 29,
   "id": "52cd3975",
   "metadata": {},
   "outputs": [
    {
     "data": {
      "image/png": "[encoded data removed]",
      "text/plain": [
       "<Figure size 432x288 with 1 Axes>"
      ]
     },
     "metadata": {
      "needs_background": "light"
     },
     "output_type": "display_data"
    }
   ],
   "source": [
    "acf = plot_acf(data['second difference'].dropna())"
   ]
  },
  {
   "cell_type": "code",
   "execution_count": 30,
   "id": "6cac459c",
   "metadata": {},
   "outputs": [
    {
     "data": {
      "image/png": "[encoded data removed]",
      "text/plain": [
       "<Figure size 432x288 with 1 Axes>"
      ]
     },
     "metadata": {
      "needs_background": "light"
     },
     "output_type": "display_data"
    }
   ],
   "source": [
    "acf12 = plot_acf(data['12 difference'].dropna())"
   ]
  },
  {
   "cell_type": "code",
   "execution_count": 31,
   "id": "66d158a5",
   "metadata": {},
   "outputs": [
    {
     "name": "stderr",
     "output_type": "stream",
     "text": [
      "C:\\Users\\1824306\\Anaconda3\\envs\\nlp\\lib\\site-packages\\statsmodels\\regression\\linear_model.py:1434: RuntimeWarning: invalid value encountered in sqrt\n",
      "  return rho, np.sqrt(sigmasq)\n"
     ]
    },
    {
     "data": {
      "image/png": "[encoded data removed]",
      "text/plain": [
       "<Figure size 432x288 with 1 Axes>"
      ]
     },
     "metadata": {
      "needs_background": "light"
     },
     "output_type": "display_data"
    }
   ],
   "source": [
    "pacf = plot_pacf(data['second difference'].dropna())"
   ]
  },
  {
   "cell_type": "code",
   "execution_count": 32,
   "id": "777af88b",
   "metadata": {},
   "outputs": [
    {
     "data": {
      "image/png": "[encoded data removed]",
      "text/plain": [
       "<Figure size 432x288 with 1 Axes>"
      ]
     },
     "metadata": {
      "needs_background": "light"
     },
     "output_type": "display_data"
    }
   ],
   "source": [
    "pacf12 = plot_pacf(data['12 difference'].dropna())"
   ]
  },
  {
   "cell_type": "code",
   "execution_count": 39,
   "id": "e44905ea",
   "metadata": {},
   "outputs": [],
   "source": [
    "from datetime import datetime,timedelta\n",
    "train_date = datetime(1955,12,1)\n",
    "test_date = datetime(1960,12,1)"
   ]
  },
  {
   "cell_type": "code",
   "execution_count": 40,
   "id": "cd592bc6",
   "metadata": {},
   "outputs": [],
   "source": [
    "train = data[:train_date]\n",
    "test  = data[train_date+timedelta(days=1):test_date]\n"
   ]
  },
  {
   "cell_type": "code",
   "execution_count": 42,
   "id": "3194ddca",
   "metadata": {},
   "outputs": [],
   "source": [
    "pred_start = test.index[0]\n",
    "pred_end = test.index[-1]"
   ]
  },
  {
   "cell_type": "code",
   "execution_count": 62,
   "id": "b4759fce",
   "metadata": {},
   "outputs": [
    {
     "name": "stderr",
     "output_type": "stream",
     "text": [
      "C:\\Users\\1824306\\Anaconda3\\envs\\nlp\\lib\\site-packages\\statsmodels\\tsa\\base\\tsa_model.py:527: ValueWarning: No frequency information was provided, so inferred frequency MS will be used.\n",
      "  % freq, ValueWarning)\n",
      "C:\\Users\\1824306\\Anaconda3\\envs\\nlp\\lib\\site-packages\\statsmodels\\tsa\\base\\tsa_model.py:527: ValueWarning: No frequency information was provided, so inferred frequency MS will be used.\n",
      "  % freq, ValueWarning)\n"
     ]
    }
   ],
   "source": [
    "from statsmodels.tsa.statespace.sarimax import SARIMAX\n",
    "\n",
    "model_SARIMA = SARIMAX(train['Thousands of Passengers'],order=(3,0,5),seasonal_order=(0,1,0,12))"
   ]
  },
  {
   "cell_type": "code",
   "execution_count": 63,
   "id": "27c0b119",
   "metadata": {},
   "outputs": [
    {
     "name": "stderr",
     "output_type": "stream",
     "text": [
      "C:\\Users\\1824306\\Anaconda3\\envs\\nlp\\lib\\site-packages\\statsmodels\\base\\model.py:568: ConvergenceWarning: Maximum Likelihood optimization failed to converge. Check mle_retvals\n",
      "  ConvergenceWarning)\n"
     ]
    }
   ],
   "source": [
    "model_sarima_fit = model_SARIMA.fit()"
   ]
  },
  {
   "cell_type": "code",
   "execution_count": 64,
   "id": "f161b69f",
   "metadata": {},
   "outputs": [
    {
     "data": {
      "text/html": [
       "<table class=\"simpletable\">\n",
       "<caption>SARIMAX Results</caption>\n",
       "<tr>\n",
       "  <th>Dep. Variable:</th>       <td>Thousands of Passengers</td>     <th>  No. Observations:  </th>    <td>84</td>   \n",
       "</tr>\n",
       "<tr>\n",
       "  <th>Model:</th>           <td>SARIMAX(3, 0, 5)x(0, 1, [], 12)</td> <th>  Log Likelihood     </th> <td>-265.241</td>\n",
       "</tr>\n",
       "<tr>\n",
       "  <th>Date:</th>                   <td>Mon, 22 May 2023</td>         <th>  AIC                </th>  <td>548.481</td>\n",
       "</tr>\n",
       "<tr>\n",
       "  <th>Time:</th>                       <td>12:53:33</td>             <th>  BIC                </th>  <td>568.971</td>\n",
       "</tr>\n",
       "<tr>\n",
       "  <th>Sample:</th>                    <td>01-01-1949</td>            <th>  HQIC               </th>  <td>556.638</td>\n",
       "</tr>\n",
       "<tr>\n",
       "  <th></th>                          <td>- 12-01-1955</td>           <th>                     </th>     <td> </td>   \n",
       "</tr>\n",
       "<tr>\n",
       "  <th>Covariance Type:</th>               <td>opg</td>               <th>                     </th>     <td> </td>   \n",
       "</tr>\n",
       "</table>\n",
       "<table class=\"simpletable\">\n",
       "<tr>\n",
       "     <td></td>       <th>coef</th>     <th>std err</th>      <th>z</th>      <th>P>|z|</th>  <th>[0.025</th>    <th>0.975]</th>  \n",
       "</tr>\n",
       "<tr>\n",
       "  <th>ar.L1</th>  <td>    0.5995</td> <td>    0.938</td> <td>    0.639</td> <td> 0.523</td> <td>   -1.240</td> <td>    2.439</td>\n",
       "</tr>\n",
       "<tr>\n",
       "  <th>ar.L2</th>  <td>    0.8313</td> <td>    0.232</td> <td>    3.577</td> <td> 0.000</td> <td>    0.376</td> <td>    1.287</td>\n",
       "</tr>\n",
       "<tr>\n",
       "  <th>ar.L3</th>  <td>   -0.4539</td> <td>    0.895</td> <td>   -0.507</td> <td> 0.612</td> <td>   -2.207</td> <td>    1.300</td>\n",
       "</tr>\n",
       "<tr>\n",
       "  <th>ma.L1</th>  <td>    0.1825</td> <td>    1.167</td> <td>    0.156</td> <td> 0.876</td> <td>   -2.104</td> <td>    2.469</td>\n",
       "</tr>\n",
       "<tr>\n",
       "  <th>ma.L2</th>  <td>   -0.5354</td> <td>    1.265</td> <td>   -0.423</td> <td> 0.672</td> <td>   -3.015</td> <td>    1.944</td>\n",
       "</tr>\n",
       "<tr>\n",
       "  <th>ma.L3</th>  <td>   -0.0985</td> <td>    0.385</td> <td>   -0.256</td> <td> 0.798</td> <td>   -0.853</td> <td>    0.656</td>\n",
       "</tr>\n",
       "<tr>\n",
       "  <th>ma.L4</th>  <td>   -0.1270</td> <td>    0.338</td> <td>   -0.376</td> <td> 0.707</td> <td>   -0.789</td> <td>    0.535</td>\n",
       "</tr>\n",
       "<tr>\n",
       "  <th>ma.L5</th>  <td>    0.2472</td> <td>    0.357</td> <td>    0.692</td> <td> 0.489</td> <td>   -0.453</td> <td>    0.947</td>\n",
       "</tr>\n",
       "<tr>\n",
       "  <th>sigma2</th> <td>   87.7190</td> <td>   81.326</td> <td>    1.079</td> <td> 0.281</td> <td>  -71.678</td> <td>  247.116</td>\n",
       "</tr>\n",
       "</table>\n",
       "<table class=\"simpletable\">\n",
       "<tr>\n",
       "  <th>Ljung-Box (L1) (Q):</th>     <td>0.02</td> <th>  Jarque-Bera (JB):  </th> <td>2.68</td>\n",
       "</tr>\n",
       "<tr>\n",
       "  <th>Prob(Q):</th>                <td>0.88</td> <th>  Prob(JB):          </th> <td>0.26</td>\n",
       "</tr>\n",
       "<tr>\n",
       "  <th>Heteroskedasticity (H):</th> <td>2.05</td> <th>  Skew:              </th> <td>0.46</td>\n",
       "</tr>\n",
       "<tr>\n",
       "  <th>Prob(H) (two-sided):</th>    <td>0.09</td> <th>  Kurtosis:          </th> <td>2.77</td>\n",
       "</tr>\n",
       "</table><br/><br/>Warnings:<br/>[1] Covariance matrix calculated using the outer product of gradients (complex-step)."
      ],
      "text/plain": [
       "<class 'statsmodels.iolib.summary.Summary'>\n",
       "\"\"\"\n",
       "                                      SARIMAX Results                                      \n",
       "===========================================================================================\n",
       "Dep. Variable:             Thousands of Passengers   No. Observations:                   84\n",
       "Model:             SARIMAX(3, 0, 5)x(0, 1, [], 12)   Log Likelihood                -265.241\n",
       "Date:                             Mon, 22 May 2023   AIC                            548.481\n",
       "Time:                                     12:53:33   BIC                            568.971\n",
       "Sample:                                 01-01-1949   HQIC                           556.638\n",
       "                                      - 12-01-1955                                         \n",
       "Covariance Type:                               opg                                         \n",
       "==============================================================================\n",
       "                 coef    std err          z      P>|z|      [0.025      0.975]\n",
       "------------------------------------------------------------------------------\n",
       "ar.L1          0.5995      0.938      0.639      0.523      -1.240       2.439\n",
       "ar.L2          0.8313      0.232      3.577      0.000       0.376       1.287\n",
       "ar.L3         -0.4539      0.895     -0.507      0.612      -2.207       1.300\n",
       "ma.L1          0.1825      1.167      0.156      0.876      -2.104       2.469\n",
       "ma.L2         -0.5354      1.265     -0.423      0.672      -3.015       1.944\n",
       "ma.L3         -0.0985      0.385     -0.256      0.798      -0.853       0.656\n",
       "ma.L4         -0.1270      0.338     -0.376      0.707      -0.789       0.535\n",
       "ma.L5          0.2472      0.357      0.692      0.489      -0.453       0.947\n",
       "sigma2        87.7190     81.326      1.079      0.281     -71.678     247.116\n",
       "===================================================================================\n",
       "Ljung-Box (L1) (Q):                   0.02   Jarque-Bera (JB):                 2.68\n",
       "Prob(Q):                              0.88   Prob(JB):                         0.26\n",
       "Heteroskedasticity (H):               2.05   Skew:                             0.46\n",
       "Prob(H) (two-sided):                  0.09   Kurtosis:                         2.77\n",
       "===================================================================================\n",
       "\n",
       "Warnings:\n",
       "[1] Covariance matrix calculated using the outer product of gradients (complex-step).\n",
       "\"\"\""
      ]
     },
     "execution_count": 64,
     "metadata": {},
     "output_type": "execute_result"
    }
   ],
   "source": [
    "model_sarima_fit.summary()"
   ]
  },
  {
   "cell_type": "code",
   "execution_count": 66,
   "id": "8a56d026",
   "metadata": {},
   "outputs": [],
   "source": [
    "predictions = model_sarima_fit.predict(start=pred_start,end=pred_end)"
   ]
  },
  {
   "cell_type": "code",
   "execution_count": 67,
   "id": "e54af1d6",
   "metadata": {},
   "outputs": [],
   "source": [
    "residuals = test['Thousands of Passengers'] - predictions"
   ]
  },
  {
   "cell_type": "code",
   "execution_count": 68,
   "id": "212dbba1",
   "metadata": {},
   "outputs": [
    {
     "data": {
      "text/plain": [
       "<AxesSubplot:ylabel='Density'>"
      ]
     },
     "execution_count": 68,
     "metadata": {},
     "output_type": "execute_result"
    },
    {
     "data": {
      "image/png": "[encoded data removed]",
      "text/plain": [
       "<Figure size 432x288 with 1 Axes>"
      ]
     },
     "metadata": {
      "needs_background": "light"
     },
     "output_type": "display_data"
    }
   ],
   "source": [
    "model_sarima_fit.resid.plot(kind='kde')"
   ]
  },
  {
   "cell_type": "code",
   "execution_count": 70,
   "id": "4201f946",
   "metadata": {},
   "outputs": [
    {
     "name": "stderr",
     "output_type": "stream",
     "text": [
      "C:\\Users\\1824306\\Anaconda3\\envs\\nlp\\lib\\site-packages\\ipykernel_launcher.py:1: SettingWithCopyWarning: \n",
      "A value is trying to be set on a copy of a slice from a DataFrame.\n",
      "Try using .loc[row_indexer,col_indexer] = value instead\n",
      "\n",
      "See the caveats in the documentation: https://pandas.pydata.org/pandas-docs/stable/user_guide/indexing.html#returning-a-view-versus-a-copy\n",
      "  \"\"\"Entry point for launching an IPython kernel.\n"
     ]
    }
   ],
   "source": [
    "test['predicted_SARIMA' ]=predictions"
   ]
  },
  {
   "cell_type": "code",
   "execution_count": 72,
   "id": "14dcaa04",
   "metadata": {},
   "outputs": [
    {
     "data": {
      "text/plain": [
       "<AxesSubplot:xlabel='Month'>"
      ]
     },
     "execution_count": 72,
     "metadata": {},
     "output_type": "execute_result"
    },
    {
     "data": {
      "image/png": "[encoded data removed]",
      "text/plain": [
       "<Figure size 432x288 with 1 Axes>"
      ]
     },
     "metadata": {
      "needs_background": "light"
     },
     "output_type": "display_data"
    }
   ],
   "source": [
    "test[['Thousands of Passengers', 'predicted_SARIMA']].plot()"
   ]
  },
  {
   "cell_type": "code",
   "execution_count": null,
   "id": "100c3c02",
   "metadata": {},
   "outputs": [],
   "source": []
  }
 ],
 "metadata": {
  "kernelspec": {
   "display_name": "Python 3 (ipykernel)",
   "language": "python",
   "name": "python3"
  },
  "language_info": {
   "codemirror_mode": {
    "name": "ipython",
    "version": 3
   },
   "file_extension": ".py",
   "mimetype": "text/x-python",
   "name": "python",
   "nbconvert_exporter": "python",
   "pygments_lexer": "ipython3",
   "version": "3.7.1"
  }
 },
 "nbformat": 4,
 "nbformat_minor": 5
}
